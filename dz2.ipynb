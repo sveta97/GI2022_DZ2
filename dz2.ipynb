{
 "cells": [
  {
   "cell_type": "code",
   "execution_count": 3,
   "id": "e059483e-2ef9-422e-a599-e1b9d3b8c1e0",
   "metadata": {},
   "outputs": [
    {
     "name": "stdout",
     "output_type": "stream",
     "text": [
      "Collecting pysam\n",
      "  Downloading pysam-0.19.0-cp39-cp39-manylinux_2_12_x86_64.manylinux2010_x86_64.whl (15.7 MB)\n",
      "\u001b[K     |████████████████████████████████| 15.7 MB 14.9 MB/s eta 0:00:01\n",
      "\u001b[?25hInstalling collected packages: pysam\n",
      "Successfully installed pysam-0.19.0\n",
      "Note: you may need to restart the kernel to use updated packages.\n"
     ]
    }
   ],
   "source": [
    "pip install pysam\n"
   ]
  },
  {
   "cell_type": "code",
   "execution_count": 12,
   "id": "25bb378b-721f-40ae-aff4-0d51af07d784",
   "metadata": {},
   "outputs": [
    {
     "name": "stdout",
     "output_type": "stream",
     "text": [
      "First read flag field:  1187\n"
     ]
    },
    {
     "name": "stderr",
     "output_type": "stream",
     "text": [
      "[E::idx_find_and_load] Could not retrieve index file for '/sbgenomics/project-files/merged-tumor.bam'\n"
     ]
    },
    {
     "name": "stdout",
     "output_type": "stream",
     "text": [
      "Number of unmapped reads in the file: 17765\n",
      "Total number of reads: 2921629\n",
      "Number of reads with mapping quality 0: 126628\n",
      "Average mapping quality of all the reads: 55.91379158681681\n",
      "Average mapping quality with reads with mapping quality 0 filtered out: 58.446975510921106\n"
     ]
    }
   ],
   "source": [
    "from pysam import AlignmentFile\n",
    "\n",
    "unmappedReads = 0\n",
    "totalReads = 0\n",
    "quality0 = 0\n",
    "mappingTotal = 0\n",
    "\n",
    "firstRead = True\n",
    "\n",
    "for r in AlignmentFile(\"/sbgenomics/project-files/merged-tumor.bam\"):\n",
    "   \n",
    "    if (firstRead):\n",
    "        print(\"First read flag field: \", r.flag)\n",
    "        firstRead = False\n",
    "    \n",
    "    totalReads += 1\n",
    "    if (r.is_unmapped):\n",
    "        unmappedReads += 1\n",
    "        \n",
    "    if(r.mapping_quality == 0):\n",
    "        quality0 += 1\n",
    "        \n",
    "    mappingTotal += r.mapping_quality\n",
    "print(\"Number of unmapped reads in the file: \" + str(unmappedReads))\n",
    "print(\"Total number of reads: \" + str(totalReads))\n",
    "print(\"Number of reads with mapping quality 0: \" + str(quality0))\n",
    "print(\"Average mapping quality of all the reads: \" + str(mappingTotal / totalReads))\n",
    "print(\"Average mapping quality with reads with mapping quality 0 filtered out: \" + str(mappingTotal / (totalReads - quality0)))"
   ]
  },
  {
   "cell_type": "code",
   "execution_count": null,
   "id": "b8a7eba6-2e8c-4767-821a-0c8d76387bdb",
   "metadata": {},
   "outputs": [],
   "source": []
  }
 ],
 "metadata": {
  "kernelspec": {
   "display_name": "Python 3 (ipykernel)",
   "language": "python",
   "name": "python3"
  },
  "language_info": {
   "codemirror_mode": {
    "name": "ipython",
    "version": 3
   },
   "file_extension": ".py",
   "mimetype": "text/x-python",
   "name": "python",
   "nbconvert_exporter": "python",
   "pygments_lexer": "ipython3",
   "version": "3.9.6"
  }
 },
 "nbformat": 4,
 "nbformat_minor": 5
}
